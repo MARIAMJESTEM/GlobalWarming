{
 "cells": [
  {
   "attachments": {},
   "cell_type": "markdown",
   "metadata": {},
   "source": [
    "### Imports and data"
   ]
  },
  {
   "cell_type": "code",
   "execution_count": 1,
   "metadata": {},
   "outputs": [],
   "source": [
    "import pandas as pd\n",
    "import numpy as np \n",
    "import matplotlib.pyplot as plt\n",
    "import numpy as np\n",
    "\n",
    "df_co2 = pd.read_csv(\"data/data_preprocessed/CO2.csv\") #ppm\n",
    "df_ch4 = pd.read_csv(\"data/data_preprocessed/CH4.csv\") #ppb\n",
    "df_n2o = pd.read_csv(\"data/data_preprocessed/N2O.csv\") #ppb\n",
    "\n",
    "df_tmp = pd.read_csv(\"data/data_preprocessed/temperature.csv\")"
   ]
  },
  {
   "attachments": {},
   "cell_type": "markdown",
   "metadata": {},
   "source": [
    "## Model using Gaussian distribution"
   ]
  },
  {
   "cell_type": "code",
   "execution_count": 2,
   "metadata": {},
   "outputs": [
    {
     "name": "stdout",
     "output_type": "stream",
     "text": [
      "Statystyka testu:  3.3440751699526974\n",
      "Wartość p-wartości:  0.18786388675829657\n",
      "Dane są zgodne z rozkładem normalnym\n"
     ]
    }
   ],
   "source": [
    "from scipy import stats\n",
    "\n",
    "normality_test = stats.normaltest(np.array(df_tmp['Anomaly']))\n",
    "\n",
    "# Wyświetlanie wyników testu\n",
    "print(\"Statystyka testu: \", normality_test.statistic)\n",
    "print(\"Wartość p-wartości: \", normality_test.pvalue)\n",
    "\n",
    "# Sprawdzenie interpretacji wyników testu\n",
    "alpha = 0.05\n",
    "if normality_test.pvalue < alpha:\n",
    "    print(\"Dane nie pochodzą z rozkładu normalnego\")\n",
    "else:\n",
    "    print(\"Dane są zgodne z rozkładem normalnym\")"
   ]
  },
  {
   "cell_type": "code",
   "execution_count": 3,
   "metadata": {},
   "outputs": [
    {
     "data": {
      "image/png": "[encoded data removed]",
      "text/plain": [
       "<Figure size 432x288 with 1 Axes>"
      ]
     },
     "metadata": {
      "needs_background": "light"
     },
     "output_type": "display_data"
    }
   ],
   "source": [
    "plt.hist(np.array(df_tmp['Anomaly']), bins='auto', alpha=0.7, rwidth=0.85)\n",
    "plt.grid(axis='y', alpha=0.5)\n",
    "plt.xlabel('Wartość anomalii')\n",
    "plt.ylabel('Częstotliwość')\n",
    "plt.title('Histogram danych anomalii')\n",
    "plt.show()"
   ]
  }
 ],
 "metadata": {
  "kernelspec": {
   "display_name": "Python 3",
   "language": "python",
   "name": "python3"
  },
  "language_info": {
   "codemirror_mode": {
    "name": "ipython",
    "version": 3
   },
   "file_extension": ".py",
   "mimetype": "text/x-python",
   "name": "python",
   "nbconvert_exporter": "python",
   "pygments_lexer": "ipython3",
   "version": "3.9.1"
  },
  "orig_nbformat": 4
 },
 "nbformat": 4,
 "nbformat_minor": 2
}
